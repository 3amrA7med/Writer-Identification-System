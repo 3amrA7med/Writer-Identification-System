{
 "cells": [
  {
   "cell_type": "code",
   "execution_count": 28,
   "metadata": {},
   "outputs": [],
   "source": [
    "import os\n",
    "import time\n",
    "import numpy as np\n",
    "import matplotlib.image as img "
   ]
  },
  {
   "cell_type": "code",
   "execution_count": 29,
   "metadata": {},
   "outputs": [],
   "source": [
    "N = len(next(os.walk('./data/'))[1])             #N is the number of test cases.\n",
    "f_time = open('./output/time.txt', 'w')\n",
    "f_results = open('./output/results.txt', 'w')"
   ]
  },
  {
   "cell_type": "code",
   "execution_count": 30,
   "metadata": {},
   "outputs": [],
   "source": []
  },
  {
   "cell_type": "code",
   "execution_count": 31,
   "metadata": {},
   "outputs": [],
   "source": [
    "#program main loop\n",
    "for i in range(N):\n",
    "    path = \"./data/\"\n",
    "    if N < 10:\n",
    "        path = path + str(0) + str(i+1) + \"/\"\n",
    "    else:\n",
    "        path = path + str(i+1) + \"/\"\n",
    "        \n",
    "    w11 = img.imread(path + str(1) + \"/1.png\")\n",
    "    w12 = img.imread(path + str(1) + \"/2.png\")\n",
    "    w21 = img.imread(path + str(2) + \"/1.png\")\n",
    "    w22 = img.imread(path + str(2) + \"/2.png\")\n",
    "    w31 = img.imread(path + str(3) + \"/1.png\")\n",
    "    w32 = img.imread(path + str(3) + \"/2.png\")\n",
    "    test_im = img.imread(path + \"test.png\")\n",
    "    \n",
    "    start_time = time.time()\n",
    "    #program logic here\n",
    "      \n",
    "    end_time = time.time()\n",
    "    \n",
    "    f_time.write(str(end_time - start_time) + \"\\n\")\n",
    "    \n",
    "f_time.close()\n",
    "f_results.close()"
   ]
  },
  {
   "cell_type": "code",
   "execution_count": null,
   "metadata": {},
   "outputs": [],
   "source": []
  }
 ],
 "metadata": {
  "kernelspec": {
   "display_name": "Python 3",
   "language": "python",
   "name": "python3"
  },
  "language_info": {
   "codemirror_mode": {
    "name": "ipython",
    "version": 3
   },
   "file_extension": ".py",
   "mimetype": "text/x-python",
   "name": "python",
   "nbconvert_exporter": "python",
   "pygments_lexer": "ipython3",
   "version": "3.6.0"
  }
 },
 "nbformat": 4,
 "nbformat_minor": 2
}
