{
 "cells": [
  {
   "cell_type": "code",
   "execution_count": 170,
   "metadata": {},
   "outputs": [],
   "source": [
    "import os\n",
    "import time\n",
    "from pathlib import Path\n",
    "import shutil\n",
    "import numpy as np\n",
    "import random\n",
    "import matplotlib.image as img "
   ]
  },
  {
   "cell_type": "code",
   "execution_count": 171,
   "metadata": {},
   "outputs": [],
   "source": [
    "N = len(next(os.walk('./data/'))[1])            #N is the number of test cases in data folder (discussion).\n",
    "M = 100                                         #M is the number of randomly generated test cases \n",
    "f_time = open('./output/time.txt', 'w')\n",
    "f_results = open('./output/results.txt', 'w')"
   ]
  },
  {
   "cell_type": "markdown",
   "metadata": {},
   "source": [
    "# Read dataset Metadata"
   ]
  },
  {
   "cell_type": "code",
   "execution_count": 172,
   "metadata": {},
   "outputs": [],
   "source": [
    "f_dataset = open('./forms.txt', 'r')\n",
    "Lines = f_dataset.readlines()\n",
    "writers = []\n",
    "for i in range(672):\n",
    "    writers.append(list())\n",
    "\n",
    "for line in Lines:\n",
    "    if line[0] != '#':\n",
    "        writers[int(line.split()[1])].append(line.split()[0])\n",
    "        \n",
    "#print(writers)    \n",
    "f_dataset.close()"
   ]
  },
  {
   "cell_type": "markdown",
   "metadata": {},
   "source": [
    "# Generate testcases from dataset"
   ]
  },
  {
   "cell_type": "code",
   "execution_count": 184,
   "metadata": {},
   "outputs": [
    {
     "name": "stdout",
     "output_type": "stream",
     "text": [
      "[59, 206, 547, 299, 203, 59, 587, 193, 348, 19, 546, 292, 13, 298, 547, 334, 389, 547, 155, 584, 25, 293, 87, 298, 61, 385, 152, 17, 348, 393, 341, 495, 123, 209, 61, 13, 88, 546, 113, 339, 123, 128, 247, 155, 154, 181, 114, 339, 585, 90, 16, 388, 293, 26, 335, 287, 94, 151, 85, 112, 13, 454, 567, 193, 498, 551, 37, 63, 87, 287, 387, 388, 332, 296, 386, 17, 247, 37, 298, 117, 246, 208, 13, 390, 587, 296, 415, 389, 293, 346, 155, 217, 155, 89, 347, 671, 351, 123, 545, 296]\n"
     ]
    }
   ],
   "source": [
    "tests_writers = []                              #Array to keep the writer of the test image\n",
    "path = \"./test/\"\n",
    "number_of_writers_per_testcase = 3\n",
    "number_of_images_per_writer = 2\n",
    "#If folder does not exist create it\n",
    "if not os.path.exists(path):\n",
    "    Path(path).mkdir(parents=True, exist_ok=True)\n",
    "\n",
    "#If folder already exists delete it to generate new test cases\n",
    "else:\n",
    "    shutil.rmtree(path)\n",
    "    Path(path).mkdir(parents=True, exist_ok=True)\n",
    "\n",
    "#Generate M test cases from the dataset\n",
    "for i in range(M):\n",
    "    path = \"./test/\"\n",
    "    if i < 9:\n",
    "        path = path + str(0) + str(i+1)\n",
    "    else:\n",
    "        path = path + str(i+1)  \n",
    "        \n",
    "    #Create folder for each testcase    \n",
    "    Path(path).mkdir(parents=True, exist_ok=True)\n",
    "\n",
    "\n",
    "    #Pick 3 random writers for each test case\n",
    "    random_writers = []                                                 #Picked writers for a testcase\n",
    "    while len(random_writers) < number_of_writers_per_testcase:\n",
    "        W = random.randint(0,len(writers) - 1)                          #Pick random writer\n",
    "        if not W in random_writers:                                     #Check that writer is not already picked\n",
    "            if len(writers[W]) > number_of_images_per_writer:           #Check that writer has at least 3 images\n",
    "                random_writers.append(W)\n",
    "    \n",
    "    random_images = []                                                  #All the picked images in the testset\n",
    "    for j in range(number_of_writers_per_testcase):\n",
    "        writer_path = path + \"/\" + str(j + 1)\n",
    "        Path(writer_path).mkdir(parents=True, exist_ok=True)            #Create folder for each writer\n",
    "        \n",
    "        #Pick 2 random images for each writer\n",
    "        random_images_per_writer = []                                   #Picked images per writer\n",
    "        while len(random_images_per_writer) < 2:\n",
    "            I = random.randint(0,len(writers[random_writers[j]]) - 1)              #Pick a random image by the writer\n",
    "            if not writers[random_writers[j]][I] in random_images_per_writer:      #Check the image is not already picked\n",
    "                random_images_per_writer.append(writers[random_writers[j]][I])\n",
    "                random_images.append(writers[random_writers[j]][I])\n",
    "        \n",
    "        #Copy the picked images from the dataset folder to testcases\n",
    "        shutil.copy2(\"./dataset/\" + random_images_per_writer[0] + \".png\", writer_path + \"/1.png\")\n",
    "        shutil.copy2(\"./dataset/\" + random_images_per_writer[1] + \".png\", writer_path + \"/2.png\")\n",
    "        \n",
    "        #shutil.copy2(\"./data/01/1/1.png\", writer_path + \"/1.png\")\n",
    "        #shutil.copy2(\"./data/01/1/1.png\", writer_path + \"/2.png\")\n",
    "        \n",
    "        \n",
    "    #Pick test image from the dataset\n",
    "    T = random.randint(0, len(random_writers) - 1)                          #Pick the writer of the test image\n",
    "    while True:\n",
    "        T_img = random.randint(0, len(writers[random_writers[T]]) - 1)      #Pick the test image\n",
    "        if not writers[random_writers[T]][T_img] in random_images:          #Check the test image is not in training images\n",
    "            shutil.copy2(\"./dataset/\" + writers[random_writers[T]][T_img] +\".png\", path + \"/test.png\")\n",
    "            #shutil.copy2(\"./data/01/test.png\", path + \"/test.png\")\n",
    "            tests_writers.append(random_writers[T])\n",
    "            break\n",
    "\n",
    "print(tests_writers)"
   ]
  },
  {
   "cell_type": "markdown",
   "metadata": {},
   "source": [
    "# Program main loop"
   ]
  },
  {
   "cell_type": "code",
   "execution_count": 135,
   "metadata": {},
   "outputs": [
    {
     "ename": "ValueError",
     "evalue": "invalid PNG header",
     "output_type": "error",
     "traceback": [
      "\u001b[1;31m---------------------------------------------------------------------------\u001b[0m",
      "\u001b[1;31mValueError\u001b[0m                                Traceback (most recent call last)",
      "\u001b[1;32m<ipython-input-135-dc2542a53c61>\u001b[0m in \u001b[0;36m<module>\u001b[1;34m\u001b[0m\n\u001b[0;32m      7\u001b[0m         \u001b[0mpath\u001b[0m \u001b[1;33m=\u001b[0m \u001b[0mpath\u001b[0m \u001b[1;33m+\u001b[0m \u001b[0mstr\u001b[0m\u001b[1;33m(\u001b[0m\u001b[0mi\u001b[0m\u001b[1;33m+\u001b[0m\u001b[1;36m1\u001b[0m\u001b[1;33m)\u001b[0m \u001b[1;33m+\u001b[0m \u001b[1;34m\"/\"\u001b[0m\u001b[1;33m\u001b[0m\u001b[0m\n\u001b[0;32m      8\u001b[0m \u001b[1;33m\u001b[0m\u001b[0m\n\u001b[1;32m----> 9\u001b[1;33m     \u001b[0mw11\u001b[0m \u001b[1;33m=\u001b[0m \u001b[0mimg\u001b[0m\u001b[1;33m.\u001b[0m\u001b[0mimread\u001b[0m\u001b[1;33m(\u001b[0m\u001b[0mpath\u001b[0m \u001b[1;33m+\u001b[0m \u001b[0mstr\u001b[0m\u001b[1;33m(\u001b[0m\u001b[1;36m1\u001b[0m\u001b[1;33m)\u001b[0m \u001b[1;33m+\u001b[0m \u001b[1;34m\"/1.PNG\"\u001b[0m\u001b[1;33m)\u001b[0m\u001b[1;33m\u001b[0m\u001b[0m\n\u001b[0m\u001b[0;32m     10\u001b[0m     \u001b[0mw12\u001b[0m \u001b[1;33m=\u001b[0m \u001b[0mimg\u001b[0m\u001b[1;33m.\u001b[0m\u001b[0mimread\u001b[0m\u001b[1;33m(\u001b[0m\u001b[0mpath\u001b[0m \u001b[1;33m+\u001b[0m \u001b[0mstr\u001b[0m\u001b[1;33m(\u001b[0m\u001b[1;36m1\u001b[0m\u001b[1;33m)\u001b[0m \u001b[1;33m+\u001b[0m \u001b[1;34m\"/2.png\"\u001b[0m\u001b[1;33m)\u001b[0m\u001b[1;33m\u001b[0m\u001b[0m\n\u001b[0;32m     11\u001b[0m     \u001b[0mw21\u001b[0m \u001b[1;33m=\u001b[0m \u001b[0mimg\u001b[0m\u001b[1;33m.\u001b[0m\u001b[0mimread\u001b[0m\u001b[1;33m(\u001b[0m\u001b[0mpath\u001b[0m \u001b[1;33m+\u001b[0m \u001b[0mstr\u001b[0m\u001b[1;33m(\u001b[0m\u001b[1;36m2\u001b[0m\u001b[1;33m)\u001b[0m \u001b[1;33m+\u001b[0m \u001b[1;34m\"/1.png\"\u001b[0m\u001b[1;33m)\u001b[0m\u001b[1;33m\u001b[0m\u001b[0m\n",
      "\u001b[1;32m~\\Anaconda\\lib\\site-packages\\matplotlib\\image.py\u001b[0m in \u001b[0;36mimread\u001b[1;34m(fname, format)\u001b[0m\n\u001b[0;32m   1373\u001b[0m         \u001b[1;32melse\u001b[0m\u001b[1;33m:\u001b[0m\u001b[1;33m\u001b[0m\u001b[0m\n\u001b[0;32m   1374\u001b[0m             \u001b[1;32mwith\u001b[0m \u001b[0mopen\u001b[0m\u001b[1;33m(\u001b[0m\u001b[0mfname\u001b[0m\u001b[1;33m,\u001b[0m \u001b[1;34m'rb'\u001b[0m\u001b[1;33m)\u001b[0m \u001b[1;32mas\u001b[0m \u001b[0mfd\u001b[0m\u001b[1;33m:\u001b[0m\u001b[1;33m\u001b[0m\u001b[0m\n\u001b[1;32m-> 1375\u001b[1;33m                 \u001b[1;32mreturn\u001b[0m \u001b[0mhandler\u001b[0m\u001b[1;33m(\u001b[0m\u001b[0mfd\u001b[0m\u001b[1;33m)\u001b[0m\u001b[1;33m\u001b[0m\u001b[0m\n\u001b[0m\u001b[0;32m   1376\u001b[0m     \u001b[1;32melse\u001b[0m\u001b[1;33m:\u001b[0m\u001b[1;33m\u001b[0m\u001b[0m\n\u001b[0;32m   1377\u001b[0m         \u001b[1;32mreturn\u001b[0m \u001b[0mhandler\u001b[0m\u001b[1;33m(\u001b[0m\u001b[0mfname\u001b[0m\u001b[1;33m)\u001b[0m\u001b[1;33m\u001b[0m\u001b[0m\n",
      "\u001b[1;31mValueError\u001b[0m: invalid PNG header"
     ]
    }
   ],
   "source": [
    "#program main loop\n",
    "for i in range(N):\n",
    "    path = \"./data/\"\n",
    "    if i < 10:\n",
    "        path = path + str(0) + str(i+1) + \"/\"\n",
    "    else:\n",
    "        path = path + str(i+1) + \"/\"\n",
    "        \n",
    "    w11 = img.imread(path + str(1) + \"/1.PNG\")\n",
    "    w12 = img.imread(path + str(1) + \"/2.png\")\n",
    "    w21 = img.imread(path + str(2) + \"/1.png\")\n",
    "    w22 = img.imread(path + str(2) + \"/2.png\")\n",
    "    w31 = img.imread(path + str(3) + \"/1.png\")\n",
    "    w32 = img.imread(path + str(3) + \"/2.png\")\n",
    "    test_im = img.imread(path + \"test.png\")\n",
    "    \n",
    "    start_time = time.time()\n",
    "    #program logic here\n",
    "      \n",
    "    end_time = time.time()\n",
    "    \n",
    "    f_time.write(str(end_time - start_time) + \"\\n\")\n",
    "    \n",
    "f_time.close()\n",
    "f_results.close()"
   ]
  },
  {
   "cell_type": "code",
   "execution_count": 182,
   "metadata": {},
   "outputs": [
    {
     "name": "stdout",
     "output_type": "stream",
     "text": [
      "131\n"
     ]
    }
   ],
   "source": []
  },
  {
   "cell_type": "code",
   "execution_count": null,
   "metadata": {},
   "outputs": [],
   "source": []
  }
 ],
 "metadata": {
  "kernelspec": {
   "display_name": "Python 3",
   "language": "python",
   "name": "python3"
  },
  "language_info": {
   "codemirror_mode": {
    "name": "ipython",
    "version": 3
   },
   "file_extension": ".py",
   "mimetype": "text/x-python",
   "name": "python",
   "nbconvert_exporter": "python",
   "pygments_lexer": "ipython3",
   "version": "3.6.0"
  }
 },
 "nbformat": 4,
 "nbformat_minor": 2
}
